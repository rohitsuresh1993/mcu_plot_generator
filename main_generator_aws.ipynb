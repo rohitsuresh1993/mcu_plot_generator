{
 "cells": [
  {
   "cell_type": "code",
   "execution_count": 42,
   "metadata": {},
   "outputs": [],
   "source": [
    "## adding directory to system path --- execute only once\n",
    "#import sys,os\n",
    "#sys.path.append(os.getcwd())\n",
    "#sys.path"
   ]
  },
  {
   "cell_type": "code",
   "execution_count": 1,
   "metadata": {},
   "outputs": [],
   "source": [
    "# import necessary packages and libraries\n",
    "import inspect\n",
    "import importlib\n",
    "import plot_summary_generator_utils\n",
    "importlib.reload(plot_summary_generator_utils)\n",
    "from plot_summary_generator_utils import *\n",
    "import warnings\n",
    "warnings.filterwarnings('ignore')\n",
    "from gensim.models import Word2Vec,KeyedVectors"
   ]
  },
  {
   "cell_type": "code",
   "execution_count": 44,
   "metadata": {},
   "outputs": [
    {
     "data": {
      "text/plain": [
       "0    tt0371746\n",
       "1    tt0800080\n",
       "2    tt1228705\n",
       "3    tt3501632\n",
       "4    tt0458339\n",
       "Name: imdb id, dtype: object"
      ]
     },
     "execution_count": 44,
     "metadata": {},
     "output_type": "execute_result"
    }
   ],
   "source": [
    "filepath = 'corpus_movies_list.xlsx'\n",
    "imdb_ids = imdb_id_list(filepath)\n",
    "imdb_ids[:5]"
   ]
  },
  {
   "cell_type": "code",
   "execution_count": 5,
   "metadata": {},
   "outputs": [
    {
     "name": "stdout",
     "output_type": "stream",
     "text": [
      "Wall time: 1min 5s\n"
     ]
    }
   ],
   "source": [
    "%time plot_aggregator_imdb(imdb_ids[:5],'5_mcu_plots') "
   ]
  },
  {
   "cell_type": "code",
   "execution_count": 25,
   "metadata": {},
   "outputs": [],
   "source": [
    "cl = pd.read_csv('comic_titles.csv',header=0,encoding = 'unicode_escape')['comic_title']"
   ]
  },
  {
   "cell_type": "code",
   "execution_count": 40,
   "metadata": {},
   "outputs": [],
   "source": [
    "#cl"
   ]
  },
  {
   "cell_type": "code",
   "execution_count": 43,
   "metadata": {},
   "outputs": [],
   "source": [
    "s = sample(list(cl),20)"
   ]
  },
  {
   "cell_type": "code",
   "execution_count": 38,
   "metadata": {},
   "outputs": [
    {
     "name": "stdout",
     "output_type": "stream",
     "text": [
      "Wall time: 14.8 s\n"
     ]
    }
   ],
   "source": [
    "# %time comic_plot_agg(s,'20_comics_plot')"
   ]
  },
  {
   "cell_type": "code",
   "execution_count": 39,
   "metadata": {},
   "outputs": [],
   "source": [
    "with open('combined_plots.txt','w') as mf:\n",
    "    concat_plot = ''.join([open(f).read() for f in ['20_comics_plot.txt','5_mcu_plots.txt']])\n",
    "    mf.write(concat_plot)"
   ]
  },
  {
   "cell_type": "code",
   "execution_count": 45,
   "metadata": {},
   "outputs": [],
   "source": [
    "with open('combined_plots.txt','r',encoding = 'utf-8') as f: corpus_raw_text = f.read()"
   ]
  },
  {
   "cell_type": "code",
   "execution_count": 49,
   "metadata": {},
   "outputs": [],
   "source": [
    "#corpus_raw_text"
   ]
  },
  {
   "cell_type": "code",
   "execution_count": 48,
   "metadata": {},
   "outputs": [],
   "source": [
    "corpus_tokens = preprocess_corpus_text(corpus_raw_text)"
   ]
  },
  {
   "cell_type": "code",
   "execution_count": 50,
   "metadata": {},
   "outputs": [],
   "source": [
    "embed = Word2Vec(corpus_tokens, size = 50, min_count = 5, sg = 1, iter=1, negative=10)"
   ]
  },
  {
   "cell_type": "code",
   "execution_count": 51,
   "metadata": {},
   "outputs": [],
   "source": [
    "embed.wv.save_word2vec_format('aws_test_small_model')"
   ]
  },
  {
   "cell_type": "code",
   "execution_count": 52,
   "metadata": {},
   "outputs": [],
   "source": [
    "word_embed = KeyedVectors.load_word2vec_format('aws_test_small_model')"
   ]
  },
  {
   "cell_type": "code",
   "execution_count": 70,
   "metadata": {},
   "outputs": [
    {
     "name": "stdout",
     "output_type": "stream",
     "text": [
      "<gensim.models.keyedvectors.Word2VecKeyedVectors object at 0x0000012FB24D3DD8>\n"
     ]
    }
   ],
   "source": [
    "print(word_embed)"
   ]
  },
  {
   "cell_type": "code",
   "execution_count": 55,
   "metadata": {},
   "outputs": [],
   "source": [
    "wvs = word_embed.wv"
   ]
  },
  {
   "cell_type": "code",
   "execution_count": 67,
   "metadata": {},
   "outputs": [
    {
     "data": {
      "text/plain": [
       "[('lead', 0.999681293964386),\n",
       " ('work', 0.9996771812438965),\n",
       " ('rogers', 0.9996715784072876),\n",
       " ('design', 0.9996551871299744),\n",
       " ('gang', 0.9996541738510132),\n",
       " ('rider', 0.999645471572876),\n",
       " ('still', 0.9996436238288879),\n",
       " ('soon', 0.9996353387832642),\n",
       " ('complete', 0.9996305704116821),\n",
       " ('peggy', 0.9996235370635986)]"
      ]
     },
     "execution_count": 67,
     "metadata": {},
     "output_type": "execute_result"
    }
   ],
   "source": [
    "wvs.similar_by_word('woman')"
   ]
  },
  {
   "cell_type": "code",
   "execution_count": 68,
   "metadata": {},
   "outputs": [
    {
     "data": {
      "text/plain": [
       "[('last', 0.9992153644561768),\n",
       " ('cross', 0.9991827011108398),\n",
       " ('private', 0.999174177646637),\n",
       " ('every', 0.9991242289543152),\n",
       " ('save', 0.9991166591644287),\n",
       " ('strategic', 0.9991089105606079),\n",
       " ('heavy', 0.9991009831428528),\n",
       " ('fact', 0.9990943670272827),\n",
       " ('artificial', 0.9990895986557007),\n",
       " ('second', 0.9990859627723694)]"
      ]
     },
     "execution_count": 68,
     "metadata": {},
     "output_type": "execute_result"
    }
   ],
   "source": [
    "wvs.most_similar(positive=['captain','woman'],negative=['man'])"
   ]
  },
  {
   "cell_type": "code",
   "execution_count": null,
   "metadata": {},
   "outputs": [],
   "source": []
  },
  {
   "cell_type": "code",
   "execution_count": null,
   "metadata": {},
   "outputs": [],
   "source": []
  },
  {
   "cell_type": "code",
   "execution_count": null,
   "metadata": {},
   "outputs": [],
   "source": []
  },
  {
   "cell_type": "code",
   "execution_count": null,
   "metadata": {},
   "outputs": [],
   "source": []
  },
  {
   "cell_type": "code",
   "execution_count": null,
   "metadata": {},
   "outputs": [],
   "source": []
  },
  {
   "cell_type": "code",
   "execution_count": null,
   "metadata": {},
   "outputs": [],
   "source": []
  }
 ],
 "metadata": {
  "kernelspec": {
   "display_name": "Python 3",
   "language": "python",
   "name": "python3"
  },
  "language_info": {
   "codemirror_mode": {
    "name": "ipython",
    "version": 3
   },
   "file_extension": ".py",
   "mimetype": "text/x-python",
   "name": "python",
   "nbconvert_exporter": "python",
   "pygments_lexer": "ipython3",
   "version": "3.7.3"
  }
 },
 "nbformat": 4,
 "nbformat_minor": 2
}
